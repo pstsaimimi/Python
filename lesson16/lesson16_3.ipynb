{
 "cells": [
  {
   "cell_type": "markdown",
   "id": "309d8679",
   "metadata": {},
   "source": [
    "https://www.perplexity.ai/search/9037605f-7d32-4bed-887a-66ffe09265ab"
   ]
  },
  {
   "cell_type": "code",
   "execution_count": 5,
   "id": "19a0fc8c",
   "metadata": {},
   "outputs": [],
   "source": [
    "import numpy as np\n",
    "import pandas as pd\n",
    "#建立50位學生5個分數,每個分數的值是50~100之間的隨機整數\n",
    "scores = np.random.randint(50,101,size=(50, 5))\n",
    "score_pd = pd.DataFrame(scores,\n",
    "             columns=['國文', '英文', '數學', '地理', '歷史'],\n",
    "             index=[f'學生{index}' for index in range(1,51)])\n",
    "type(score_pd.index)\n",
    "score_pd.columns.name = '科目'\n",
    "score_pd.index.name = '學號'\n",
    "\n",
    "score_pd.to_excel('3年5班.xlsx',index=True)"
   ]
  },
  {
   "cell_type": "code",
   "execution_count": 8,
   "id": "b723cf7a",
   "metadata": {},
   "outputs": [
    {
     "data": {
      "text/plain": [
       "'C:\\\\Users\\\\User\\\\Documents\\\\github\\\\Python\\\\lesson16\\\\__main__'"
      ]
     },
     "execution_count": 8,
     "metadata": {},
     "output_type": "execute_result"
    }
   ],
   "source": [
    "import os\n",
    "os.path.realpath(__name__)"
   ]
  },
  {
   "cell_type": "code",
   "execution_count": 10,
   "id": "5561986e",
   "metadata": {},
   "outputs": [
    {
     "data": {
      "text/plain": [
       "'C:\\\\Users\\\\User\\\\Documents\\\\github\\\\Python\\\\lesson16'"
      ]
     },
     "execution_count": 10,
     "metadata": {},
     "output_type": "execute_result"
    }
   ],
   "source": [
    "import os\n",
    "script_path = os.path.realpath(__name__)\n",
    "script_root = os.path.dirname(script_path)\n",
    "script_root"
   ]
  },
  {
   "cell_type": "code",
   "execution_count": 15,
   "id": "ba43707a",
   "metadata": {},
   "outputs": [
    {
     "data": {
      "text/plain": [
       "'C:\\\\Users\\\\User\\\\Documents\\\\github\\\\Python\\\\lesson16\\\\excel'"
      ]
     },
     "execution_count": 15,
     "metadata": {},
     "output_type": "execute_result"
    }
   ],
   "source": [
    "import os\n",
    "script_path = os.path.realpath(__name__)\n",
    "script_root = os.path.dirname(script_path)\n",
    "os.path.join(script_root,\"excel\")"
   ]
  },
  {
   "cell_type": "code",
   "execution_count": 17,
   "id": "03f7383a",
   "metadata": {},
   "outputs": [
    {
     "name": "stdout",
     "output_type": "stream",
     "text": [
      "3年5班.xlsx\n",
      "3年6班.xlsx\n",
      "3年7班.xlsx\n"
     ]
    }
   ],
   "source": [
    "import os\n",
    "script_path = os.path.realpath(__name__)\n",
    "script_root = os.path.dirname(script_path)\n",
    "excel_folder = os.path.join(script_root,\"excel\")\n",
    "for excel_name in os.listdir(excel_folder):\n",
    "    print(excel_name)"
   ]
  }
 ],
 "metadata": {
  "kernelspec": {
   "display_name": "python2_4",
   "language": "python",
   "name": "python3"
  },
  "language_info": {
   "codemirror_mode": {
    "name": "ipython",
    "version": 3
   },
   "file_extension": ".py",
   "mimetype": "text/x-python",
   "name": "python",
   "nbconvert_exporter": "python",
   "pygments_lexer": "ipython3",
   "version": "3.11.11"
  }
 },
 "nbformat": 4,
 "nbformat_minor": 5
}
