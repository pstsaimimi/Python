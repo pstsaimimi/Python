{
 "cells": [
  {
   "cell_type": "code",
   "execution_count": 1,
   "id": "8b2a32c5",
   "metadata": {},
   "outputs": [
    {
     "name": "stdout",
     "output_type": "stream",
     "text": [
      "這是True的程式區塊\n",
      "現在是True\n",
      "應用程式結束\n"
     ]
    }
   ],
   "source": [
    "#雙項選擇,一定執行其中一個程式區塊\n",
    "#只要有else,一定執行其中一個程式區塊\n",
    "if True:\n",
    "    print(\"這是True的程式區塊\")\n",
    "    print(\"現在是True\")\n",
    "else:\n",
    "    print(\"這是False的程式區塊\")\n",
    "    print(\"現在是False\")\n",
    "print(\"應用程式結束\")"
   ]
  },
  {
   "cell_type": "code",
   "execution_count": 2,
   "id": "dd25512c",
   "metadata": {},
   "outputs": [
    {
     "name": "stdout",
     "output_type": "stream",
     "text": [
      "可以考駕照\n"
     ]
    }
   ],
   "source": [
    "age:int = int(input(\"請輸入age:\"))\n",
    "if age >= 18:\n",
    "    print(\"可以考駕照\")\n",
    "else:\n",
    "    print(\"不可以考駕照\")"
   ]
  },
  {
   "cell_type": "code",
   "execution_count": 4,
   "id": "19c9ccf4",
   "metadata": {},
   "outputs": [
    {
     "name": "stdout",
     "output_type": "stream",
     "text": [
      "105\n"
     ]
    }
   ],
   "source": [
    "#學生總分為300\n",
    "#有些學生可以加分5%\n",
    "\n",
    "scores:int = int(input(\"請輸入學生分數(最高300分):\"))\n",
    "is_add:str = input(\"學生是否符合加分條件?(y,n)\")\n",
    "if(is_add == \"y\"):\n",
    "    scores *= 1.05\n",
    "print(round(scores))"
   ]
  },
  {
   "cell_type": "code",
   "execution_count": 5,
   "id": "1ed97635",
   "metadata": {},
   "outputs": [
    {
     "name": "stdout",
     "output_type": "stream",
     "text": [
      "247\n"
     ]
    }
   ],
   "source": [
    "#學生總分為300\n",
    "#有些學生可以加分5%\n",
    "\n",
    "scores:int = int(input(\"請輸入學生分數(最高300分):\"))\n",
    "is_add:str = input(\"學生是否符合加分條件?(y,n)\")\n",
    "if(is_add == \"y\"):\n",
    "    scores *= 1.05\n",
    "    if scores > 300:\n",
    "        scores = 300\n",
    "print(round(scores))"
   ]
  },
  {
   "cell_type": "code",
   "execution_count": 3,
   "id": "b30e6cb2",
   "metadata": {},
   "outputs": [
    {
     "name": "stdout",
     "output_type": "stream",
     "text": [
      "252\n"
     ]
    }
   ],
   "source": [
    "#學生總分為300\n",
    "#有些學生可以加分5%\n",
    "try:\n",
    "    scores:int = int(input(\"請輸入學生分數(最高300分):\"))\n",
    "    is_add:str = input(\"學生是否符合加分條件?(y,n)\")\n",
    "    if(is_add == \"y\"):\n",
    "        scores *= 1.05\n",
    "        if scores > 300:\n",
    "            scores = 300\n",
    "    print(round(scores))\n",
    "except:\n",
    "    print(\"輸入有錯誤\")"
   ]
  },
  {
   "cell_type": "code",
   "execution_count": 12,
   "id": "66443ecf",
   "metadata": {},
   "outputs": [
    {
     "name": "stdout",
     "output_type": "stream",
     "text": [
      "輸入分數超過300\n",
      "應用程式結束\n"
     ]
    }
   ],
   "source": [
    "#學生總分為300\n",
    "#有些學生可以加分5%\n",
    "try:\n",
    "    scores:int = int(input(\"請輸入學生分數(最高300分):\"))\n",
    "    if scores > 300:\n",
    "        raise Exception(\"輸入分數超過300\") #自已raise錯誤\n",
    "    is_add:str = input(\"學生是否符合加分條件?(y,n)\")\n",
    "    if(is_add == \"y\"):\n",
    "        scores *= 1.05\n",
    "        if scores > 300:\n",
    "            scores = 300    \n",
    "except ValueError:\n",
    "    print(\"輸入有錯誤\")\n",
    "except Exception as e:\n",
    "    print(e)\n",
    "else:\n",
    "    print(round(scores))\n",
    "print(\"應用程式結束\")"
   ]
  },
  {
   "cell_type": "code",
   "execution_count": 1,
   "id": "5c87af85",
   "metadata": {},
   "outputs": [
    {
     "name": "stdout",
     "output_type": "stream",
     "text": [
      "不及格\n"
     ]
    }
   ],
   "source": [
    "scores = int(input(\"score:\"))\n",
    "if scores >= 80:\n",
    "    print(\"優\")\n",
    "else:\n",
    "    if scores >= 60:\n",
    "        print(\"甲\")\n",
    "    else:\n",
    "        print(\"不及格\")"
   ]
  },
  {
   "cell_type": "code",
   "execution_count": 2,
   "id": "7fee3aee",
   "metadata": {},
   "outputs": [
    {
     "name": "stdout",
     "output_type": "stream",
     "text": [
      "優\n"
     ]
    }
   ],
   "source": [
    "#多項選擇\n",
    "scores = int(input(\"score:\"))\n",
    "if scores >= 80:\n",
    "    print(\"優\")\n",
    "elif scores >= 60:    \n",
    "    print(\"甲\")\n",
    "else:\n",
    "    print(\"不及格\")"
   ]
  },
  {
   "cell_type": "code",
   "execution_count": 18,
   "id": "8744d009",
   "metadata": {},
   "outputs": [
    {
     "name": "stdout",
     "output_type": "stream",
     "text": [
      "輸入身高<120\n",
      "應用程式結束\n"
     ]
    }
   ],
   "source": [
    "try:\n",
    "    height = eval(input(\"請輸入您的身高(公分):\"))\n",
    "    if height <120:\n",
    "        raise Exception(\"輸入身高<120\") #自已raise錯誤    \n",
    "    else:\n",
    "        if height >200:\n",
    "            raise Exception(\"輸入身高>200\") #自已raise錯誤\n",
    "\n",
    "    weight = eval(input(\"請輸入您的體重(公斤):\"))    \n",
    "    if weight <30:\n",
    "        raise Exception(\"輸入體重<30\") #自已raise錯誤    \n",
    "    else:\n",
    "        if weight >200:\n",
    "            raise Exception(\"輸入體重>200\") #自已raise錯誤 \n",
    "\n",
    "    BMI = weight/(height/100)**2\n",
    "\n",
    "    print(f\"您的身高是:{height}公分\")\n",
    "    print(f\"您的體重是:{weight}公斤\")\n",
    "    print(f\"您的BMI結果是:{BMI:.2f}\")\n",
    "\n",
    "except ValueError:\n",
    "    print(\"輸入有錯誤\")\n",
    "except Exception as e:\n",
    "    print(e)\n",
    "  \n",
    "print(\"應用程式結束\")"
   ]
  }
 ],
 "metadata": {
  "kernelspec": {
   "display_name": "base",
   "language": "python",
   "name": "python3"
  },
  "language_info": {
   "codemirror_mode": {
    "name": "ipython",
    "version": 3
   },
   "file_extension": ".py",
   "mimetype": "text/x-python",
   "name": "python",
   "nbconvert_exporter": "python",
   "pygments_lexer": "ipython3",
   "version": "3.12.9"
  }
 },
 "nbformat": 4,
 "nbformat_minor": 5
}
