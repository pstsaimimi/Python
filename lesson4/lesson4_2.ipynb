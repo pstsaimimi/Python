{
 "cells": [
  {
   "cell_type": "code",
   "execution_count": 22,
   "id": "3683e292",
   "metadata": {},
   "outputs": [
    {
     "name": "stdout",
     "output_type": "stream",
     "text": [
      "您的身高是:160公分\n",
      "您的體重是:90公斤\n",
      "您的BMI結果是:35.16\n",
      "重度肥胖\n",
      "應用程式結束\n"
     ]
    }
   ],
   "source": [
    "try:\n",
    "    height = int(input(\"請輸入您的身高(公分):\"))\n",
    "    if height <120:\n",
    "        raise Exception(\"輸入值超出範圍(120~200),輸入身高<120\") #自已raise錯誤    \n",
    "    else:\n",
    "        if height >200:\n",
    "            raise Exception(\"輸入值超出範圍(120~200),身高>200\") #自已raise錯誤\n",
    "\n",
    "    weight = int(input(\"請輸入您的體重(公斤):\"))    \n",
    "    if weight <30:\n",
    "        raise Exception(\"輸入值超出範圍(30~200),輸入體重<30\") #自已raise錯誤    \n",
    "    else:\n",
    "        if weight >200:\n",
    "            raise Exception(\"輸入值超出範圍(30~200),輸入體重>200\") #自已raise錯誤 \n",
    "\n",
    "    BMI = weight/(height/100)**2\n",
    "\n",
    "except ValueError:\n",
    "    print(\"輸入有錯誤\")\n",
    "except Exception as e:\n",
    "    print(e)\n",
    "else:\n",
    "    print(f\"您的身高是:{height}公分\")\n",
    "    print(f\"您的體重是:{weight}公斤\")\n",
    "    print(f\"您的BMI結果是:{BMI:.2f}\")  \n",
    "    if BMI < 18.5:\n",
    "        print(\"體重過輕\")\n",
    "    elif BMI<24:\n",
    "        print(\"標準體重\")\n",
    "    elif BMI <27:\n",
    "        print(\"體重過重\")\n",
    "    elif BMI <30:\n",
    "        print(\"輕度肥胖\")\n",
    "    elif BMI <35:\n",
    "        print(\"中度肥胖\")\n",
    "    else:\n",
    "        print(\"重度肥胖\")\n",
    "         \n",
    "print(\"應用程式結束\")"
   ]
  }
 ],
 "metadata": {
  "kernelspec": {
   "display_name": "base",
   "language": "python",
   "name": "python3"
  },
  "language_info": {
   "codemirror_mode": {
    "name": "ipython",
    "version": 3
   },
   "file_extension": ".py",
   "mimetype": "text/x-python",
   "name": "python",
   "nbconvert_exporter": "python",
   "pygments_lexer": "ipython3",
   "version": "3.12.9"
  }
 },
 "nbformat": 4,
 "nbformat_minor": 5
}
