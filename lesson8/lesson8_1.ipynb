{
 "cells": [
  {
   "cell_type": "markdown",
   "id": "c14d1a42",
   "metadata": {},
   "source": [
    "tuple\n",
    "immutable(不可變的變數)\n",
    "Sequence(串列資料)\n",
    "iterable(可重覆讀取)\n",
    "拆解法\n",
    "用括號符號()建立\n",
    "typehint(tuple)"
   ]
  },
  {
   "cell_type": "code",
   "execution_count": 1,
   "id": "626f479f",
   "metadata": {},
   "outputs": [
    {
     "name": "stdout",
     "output_type": "stream",
     "text": [
      "robert\n",
      "45\n"
     ]
    }
   ],
   "source": [
    "#拆解法\n",
    "name, age = \"robert\", 45\n",
    "print(name)\n",
    "print(age)"
   ]
  },
  {
   "cell_type": "markdown",
   "id": "3325b000",
   "metadata": {},
   "source": [
    "list\n",
    "mutable(可變的變數)\n",
    "Sequence(串列資料)\n",
    "iterable(可重覆讀取)\n",
    "用中括號符號[]來建立\n",
    "typehint(list)"
   ]
  },
  {
   "cell_type": "code",
   "execution_count": 2,
   "id": "53fab58a",
   "metadata": {},
   "outputs": [
    {
     "data": {
      "text/plain": [
       "list"
      ]
     },
     "execution_count": 2,
     "metadata": {},
     "output_type": "execute_result"
    }
   ],
   "source": [
    "#建立list\n",
    "weekdays = ['星期一', '星期二', '星期三', '星期四', '星期五', '星期六', '星期日'] \n",
    "type(weekdays)"
   ]
  },
  {
   "cell_type": "code",
   "execution_count": 3,
   "id": "9486848b",
   "metadata": {},
   "outputs": [
    {
     "data": {
      "text/plain": [
       "'星期日'"
      ]
     },
     "execution_count": 3,
     "metadata": {},
     "output_type": "execute_result"
    }
   ],
   "source": [
    "#取出元素和修改元素\n",
    "#使用[index]\n",
    "weekdays[0]\n",
    "weekdays[1]\n",
    "weekdays[-2]\n",
    "weekdays[-1]"
   ]
  },
  {
   "cell_type": "code",
   "execution_count": 4,
   "id": "6c13c0cb",
   "metadata": {},
   "outputs": [
    {
     "data": {
      "text/plain": [
       "['星期一', '星期二', '星期三']"
      ]
     },
     "execution_count": 4,
     "metadata": {},
     "output_type": "execute_result"
    }
   ],
   "source": [
    "#[slice]\n",
    "#[起始(包含):結束(不包含)]\n",
    "\n",
    "weekdays[0:3]\n",
    "weekdays[-3:-1]\n",
    "weekdays[-3:] #取最後3個\n",
    "weekdays[:3] #取前3個"
   ]
  },
  {
   "cell_type": "code",
   "execution_count": 5,
   "id": "09b560d9",
   "metadata": {},
   "outputs": [
    {
     "name": "stdout",
     "output_type": "stream",
     "text": [
      "星期一\n",
      "星期二\n",
      "星期三\n",
      "星期四\n",
      "星期五\n",
      "星期六\n",
      "星期日\n"
     ]
    }
   ],
   "source": [
    "for day in weekdays:\n",
    "    print(day)"
   ]
  },
  {
   "cell_type": "markdown",
   "id": "419d3c25",
   "metadata": {},
   "source": [
    "dict\n",
    "mutable(可變的變數)\n",
    "Mapping(mapping資料)\n",
    "iterable(可重覆讀取)\n",
    "用大括號符號{key:value}來建立\n",
    "typehint(dict)"
   ]
  },
  {
   "cell_type": "code",
   "execution_count": 6,
   "id": "52ddb2ba",
   "metadata": {},
   "outputs": [
    {
     "data": {
      "text/plain": [
       "{'tw': 'Taiwan', 'jp': 'Japan', 'hk': 'Hong Kong'}"
      ]
     },
     "execution_count": 6,
     "metadata": {},
     "output_type": "execute_result"
    }
   ],
   "source": [
    "codes = {\"tw\":\"Taiwan\", \"jp\":\"Japan\", \"hk\":\"Hong Kong\"}\n",
    "codes"
   ]
  },
  {
   "cell_type": "code",
   "execution_count": 7,
   "id": "026cde68",
   "metadata": {},
   "outputs": [
    {
     "data": {
      "text/plain": [
       "'Taiwan'"
      ]
     },
     "execution_count": 7,
     "metadata": {},
     "output_type": "execute_result"
    }
   ],
   "source": [
    "codes['tw']"
   ]
  },
  {
   "cell_type": "code",
   "execution_count": 8,
   "id": "e553c55f",
   "metadata": {},
   "outputs": [
    {
     "name": "stdout",
     "output_type": "stream",
     "text": [
      "tw\n",
      "Taiwan\n",
      "======\n",
      "jp\n",
      "Japan\n",
      "======\n",
      "hk\n",
      "Hong Kong\n",
      "======\n"
     ]
    }
   ],
   "source": [
    "for key in codes:\n",
    "    print(key)\n",
    "    print(codes[key])\n",
    "    print(\"======\")"
   ]
  },
  {
   "cell_type": "markdown",
   "id": "aa6b2f09",
   "metadata": {},
   "source": [
    "set\n",
    "元素不可以重覆\n",
    "符號建立方式大括號{}"
   ]
  },
  {
   "cell_type": "code",
   "execution_count": 9,
   "id": "7c1aadaa",
   "metadata": {},
   "outputs": [
    {
     "data": {
      "text/plain": [
       "{'台中', '台北', '高雄'}"
      ]
     },
     "execution_count": 9,
     "metadata": {},
     "output_type": "execute_result"
    }
   ],
   "source": [
    "#set\n",
    "citys = {'台北','台中','高雄','台北','台中','高雄'}\n",
    "citys"
   ]
  }
 ],
 "metadata": {
  "kernelspec": {
   "display_name": "base",
   "language": "python",
   "name": "python3"
  },
  "language_info": {
   "codemirror_mode": {
    "name": "ipython",
    "version": 3
   },
   "file_extension": ".py",
   "mimetype": "text/x-python",
   "name": "python",
   "nbconvert_exporter": "python",
   "pygments_lexer": "ipython3",
   "version": "3.12.9"
  }
 },
 "nbformat": 4,
 "nbformat_minor": 5
}
