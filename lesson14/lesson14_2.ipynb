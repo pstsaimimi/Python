{
 "cells": [
  {
   "cell_type": "markdown",
   "id": "35fa1681",
   "metadata": {},
   "source": [
    "# ndarry 的索引(index),切割(splice)"
   ]
  },
  {
   "cell_type": "code",
   "execution_count": 6,
   "id": "f8434f5f",
   "metadata": {},
   "outputs": [
    {
     "data": {
      "text/plain": [
       "array([7, 8, 9])"
      ]
     },
     "execution_count": 6,
     "metadata": {},
     "output_type": "execute_result"
    }
   ],
   "source": [
    "import numpy as np\n",
    "arr = np.arange(10)\n",
    "arr[0]\n",
    "arr[-1]\n",
    "arr[:3]\n",
    "arr[-3:]"
   ]
  },
  {
   "cell_type": "code",
   "execution_count": 7,
   "id": "b0a3c07e",
   "metadata": {},
   "outputs": [
    {
     "data": {
      "text/plain": [
       "71"
      ]
     },
     "execution_count": 7,
     "metadata": {},
     "output_type": "execute_result"
    }
   ],
   "source": [
    "import random\n",
    "random.randint(50,100)"
   ]
  },
  {
   "cell_type": "code",
   "execution_count": 12,
   "id": "602a5c93",
   "metadata": {},
   "outputs": [
    {
     "data": {
      "text/plain": [
       "(50, 5)"
      ]
     },
     "execution_count": 12,
     "metadata": {},
     "output_type": "execute_result"
    }
   ],
   "source": [
    "np.random.randint(50,101,size=5)\n",
    "scores = np.random.randint(50,101,size=(50,5))\n",
    "scores.size\n",
    "scores.shape"
   ]
  },
  {
   "cell_type": "code",
   "execution_count": 16,
   "id": "cfae1c1b",
   "metadata": {},
   "outputs": [
    {
     "data": {
      "text/plain": [
       "array([[ 95],\n",
       "       [ 81],\n",
       "       [ 97],\n",
       "       [ 62],\n",
       "       [ 83],\n",
       "       [ 68],\n",
       "       [ 89],\n",
       "       [ 74],\n",
       "       [ 59],\n",
       "       [ 56],\n",
       "       [ 69],\n",
       "       [ 65],\n",
       "       [ 66],\n",
       "       [ 85],\n",
       "       [ 79],\n",
       "       [ 85],\n",
       "       [ 94],\n",
       "       [ 53],\n",
       "       [ 99],\n",
       "       [ 80],\n",
       "       [ 57],\n",
       "       [ 64],\n",
       "       [ 56],\n",
       "       [ 81],\n",
       "       [ 86],\n",
       "       [ 64],\n",
       "       [ 54],\n",
       "       [ 86],\n",
       "       [ 85],\n",
       "       [ 66],\n",
       "       [ 58],\n",
       "       [ 90],\n",
       "       [ 65],\n",
       "       [ 99],\n",
       "       [100],\n",
       "       [ 76],\n",
       "       [ 67],\n",
       "       [ 71],\n",
       "       [ 73],\n",
       "       [ 75],\n",
       "       [ 78],\n",
       "       [100],\n",
       "       [ 66],\n",
       "       [ 89],\n",
       "       [ 72],\n",
       "       [ 99],\n",
       "       [ 91],\n",
       "       [ 55],\n",
       "       [ 86],\n",
       "       [ 90]], dtype=int32)"
      ]
     },
     "execution_count": 16,
     "metadata": {},
     "output_type": "execute_result"
    }
   ],
   "source": [
    "scores[:,0]\n",
    "scores[:,0:1]"
   ]
  },
  {
   "cell_type": "code",
   "execution_count": 19,
   "id": "025ebd57",
   "metadata": {},
   "outputs": [
    {
     "data": {
      "text/plain": [
       "array([[95, 65, 88, 56, 64]], dtype=int32)"
      ]
     },
     "execution_count": 19,
     "metadata": {},
     "output_type": "execute_result"
    }
   ],
   "source": [
    "scores[0,:]\n",
    "scores[0:1,:]"
   ]
  },
  {
   "cell_type": "code",
   "execution_count": 27,
   "id": "a3bf9076",
   "metadata": {},
   "outputs": [
    {
     "data": {
      "text/plain": [
       "array([73.6, 67.8, 79.2, 70. , 73.2, 74.8, 68.4, 71.8, 75.4, 74.2, 71.8,\n",
       "       76.6, 68.2, 79.8, 71.4, 76. , 82.4, 71.8, 87.8, 74.2, 61.8, 64. ,\n",
       "       74. , 79. , 80.4, 62.4, 79. , 77.8, 70. , 78.2, 73.8, 73.8, 65.4,\n",
       "       84.6, 68.8, 79.8, 73. , 58. , 62. , 83. , 70. , 78.8, 73.8, 85.8,\n",
       "       66.8, 76. , 70. , 70. , 70.6, 79.2])"
      ]
     },
     "execution_count": 27,
     "metadata": {},
     "output_type": "execute_result"
    }
   ],
   "source": [
    "np.sum(scores,axis=1)\n",
    "np.mean(scores, axis=1)"
   ]
  },
  {
   "cell_type": "code",
   "execution_count": null,
   "id": "8540bb17",
   "metadata": {},
   "outputs": [
    {
     "data": {
      "text/plain": [
       "array([False, False,  True,  True, False])"
      ]
     },
     "execution_count": 29,
     "metadata": {},
     "output_type": "execute_result"
    }
   ],
   "source": [
    "#使用比較運算子\n",
    "arr = np.random.randn(5)\n",
    "arr > 0\n",
    "\n"
   ]
  },
  {
   "cell_type": "code",
   "execution_count": 30,
   "id": "ae2963ce",
   "metadata": {},
   "outputs": [
    {
     "data": {
      "text/plain": [
       "array([0, 0, 1, 1, 0])"
      ]
     },
     "execution_count": 30,
     "metadata": {},
     "output_type": "execute_result"
    }
   ],
   "source": [
    "np.where(arr > 0,1,0)"
   ]
  },
  {
   "cell_type": "code",
   "execution_count": 31,
   "id": "c8504de0",
   "metadata": {},
   "outputs": [
    {
     "data": {
      "text/plain": [
       "array([-1.27849037, -0.39680721,  0.70725467,  0.54674437, -0.87129802])"
      ]
     },
     "execution_count": 31,
     "metadata": {},
     "output_type": "execute_result"
    }
   ],
   "source": [
    "np.where(arr > 0,arr,arr)"
   ]
  },
  {
   "cell_type": "code",
   "execution_count": 32,
   "id": "070c8b0e",
   "metadata": {},
   "outputs": [
    {
     "data": {
      "text/plain": [
       "array([-1.27849037, -0.39680721,  1.        ,  1.        , -0.87129802])"
      ]
     },
     "execution_count": 32,
     "metadata": {},
     "output_type": "execute_result"
    }
   ],
   "source": [
    "np.where(arr > 0,1,arr)"
   ]
  }
 ],
 "metadata": {
  "kernelspec": {
   "display_name": "python2_4",
   "language": "python",
   "name": "python3"
  },
  "language_info": {
   "codemirror_mode": {
    "name": "ipython",
    "version": 3
   },
   "file_extension": ".py",
   "mimetype": "text/x-python",
   "name": "python",
   "nbconvert_exporter": "python",
   "pygments_lexer": "ipython3",
   "version": "3.11.11"
  }
 },
 "nbformat": 4,
 "nbformat_minor": 5
}
