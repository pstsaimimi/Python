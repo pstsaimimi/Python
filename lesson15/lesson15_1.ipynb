{
 "cells": [
  {
   "cell_type": "markdown",
   "id": "97c8bc83",
   "metadata": {},
   "source": [
    "https://www.perplexity.ai/search/1f6d8098-e981-44bf-b915-b14b9e9052da"
   ]
  },
  {
   "cell_type": "code",
   "execution_count": 4,
   "id": "699f1de1",
   "metadata": {},
   "outputs": [
    {
     "data": {
      "text/plain": [
       "array([1, 3, 5, 7, 9])"
      ]
     },
     "execution_count": 4,
     "metadata": {},
     "output_type": "execute_result"
    }
   ],
   "source": [
    "import numpy as np\n",
    "np.array([1,3,5,7,9])\n",
    "\n",
    "\n"
   ]
  },
  {
   "cell_type": "code",
   "execution_count": 5,
   "id": "95026565",
   "metadata": {},
   "outputs": [
    {
     "data": {
      "text/plain": [
       "array([[0., 0., 0., 0.],\n",
       "       [0., 0., 0., 0.],\n",
       "       [0., 0., 0., 0.]])"
      ]
     },
     "execution_count": 5,
     "metadata": {},
     "output_type": "execute_result"
    }
   ],
   "source": [
    "np.zeros((3,4))"
   ]
  },
  {
   "cell_type": "code",
   "execution_count": 8,
   "id": "95002208",
   "metadata": {},
   "outputs": [
    {
     "data": {
      "text/plain": [
       "array([[1., 1., 1., 1.],\n",
       "       [1., 1., 1., 1.],\n",
       "       [1., 1., 1., 1.]])"
      ]
     },
     "execution_count": 8,
     "metadata": {},
     "output_type": "execute_result"
    }
   ],
   "source": [
    " np.ones((3,4))"
   ]
  },
  {
   "cell_type": "code",
   "execution_count": 9,
   "id": "1b83e4c0",
   "metadata": {},
   "outputs": [
    {
     "data": {
      "text/plain": [
       "array([0. , 0.5])"
      ]
     },
     "execution_count": 9,
     "metadata": {},
     "output_type": "execute_result"
    }
   ],
   "source": [
    "np.arange(0,1,0.5)"
   ]
  },
  {
   "cell_type": "code",
   "execution_count": 12,
   "id": "a1d1d5ea",
   "metadata": {},
   "outputs": [
    {
     "data": {
      "text/plain": [
       "array([0.        , 0.11111111, 0.22222222, 0.33333333, 0.44444444,\n",
       "       0.55555556, 0.66666667, 0.77777778, 0.88888889, 1.        ])"
      ]
     },
     "execution_count": 12,
     "metadata": {},
     "output_type": "execute_result"
    }
   ],
   "source": [
    "np.linspace(0,1,10)"
   ]
  },
  {
   "cell_type": "code",
   "execution_count": 14,
   "id": "376466cc",
   "metadata": {},
   "outputs": [
    {
     "data": {
      "text/plain": [
       "array([[0.29834315, 0.94840854, 0.73995402, 0.68872026],\n",
       "       [0.29936632, 0.32842477, 0.39759067, 0.1066347 ],\n",
       "       [0.89213057, 0.68637044, 0.59539935, 0.86210225]])"
      ]
     },
     "execution_count": 14,
     "metadata": {},
     "output_type": "execute_result"
    }
   ],
   "source": [
    "np.random.rand(3,4)"
   ]
  },
  {
   "cell_type": "code",
   "execution_count": 15,
   "id": "d08721a7",
   "metadata": {},
   "outputs": [
    {
     "data": {
      "text/plain": [
       "array([[ 89,  67,  57,  61,  72],\n",
       "       [ 77,  55,  76,  77,  79],\n",
       "       [ 63,  58,  78,  86,  99],\n",
       "       [ 85,  67,  57,  60,  59],\n",
       "       [ 59,  98,  82,  53,  57],\n",
       "       [ 80,  98,  61,  51,  84],\n",
       "       [ 63,  95,  66,  61,  59],\n",
       "       [ 97,  76,  56,  61,  72],\n",
       "       [ 77,  66,  87,  62,  92],\n",
       "       [ 82,  66,  73,  97,  96],\n",
       "       [ 52,  71,  82,  79,  50],\n",
       "       [ 93,  96,  55,  58,  58],\n",
       "       [ 92,  92,  61,  94,  91],\n",
       "       [ 56,  79,  78,  94,  90],\n",
       "       [ 85,  75,  74,  65,  61],\n",
       "       [ 61,  61,  60,  82,  82],\n",
       "       [ 78,  62,  73,  86,  73],\n",
       "       [ 89,  96,  68,  85,  83],\n",
       "       [ 60,  83,  60,  75,  75],\n",
       "       [ 59,  82,  62,  52,  73],\n",
       "       [ 52,  51,  80,  65,  88],\n",
       "       [ 64,  67,  99,  65,  82],\n",
       "       [ 71,  66,  68,  98,  92],\n",
       "       [ 71,  86,  60,  60,  61],\n",
       "       [ 71,  98,  64,  94,  62],\n",
       "       [ 83,  69,  98,  79,  76],\n",
       "       [ 57,  69,  90,  50,  70],\n",
       "       [ 87,  99,  55,  87,  61],\n",
       "       [ 79,  57,  97,  91,  78],\n",
       "       [ 94,  51,  84,  88,  73],\n",
       "       [ 81,  84,  54,  65, 100],\n",
       "       [ 86,  87,  96,  83,  78],\n",
       "       [ 57,  98,  87,  62,  80],\n",
       "       [ 68,  97,  60,  95,  90],\n",
       "       [ 92,  59,  76,  87,  95],\n",
       "       [ 94,  98,  52,  54,  92],\n",
       "       [ 93,  95,  71,  98,  57],\n",
       "       [ 71,  96,  99,  87,  95],\n",
       "       [ 98,  77,  74,  50,  82],\n",
       "       [ 78,  51,  99,  76,  70],\n",
       "       [ 89,  88,  52,  71,  93],\n",
       "       [ 78,  71,  60,  67,  59],\n",
       "       [ 66,  67,  58,  73, 100],\n",
       "       [ 51,  63,  59,  82,  57],\n",
       "       [ 83,  69,  57,  54,  60],\n",
       "       [ 76,  99,  54,  64,  88],\n",
       "       [ 62,  61, 100,  91,  54],\n",
       "       [ 99,  69,  76,  80,  67],\n",
       "       [ 73,  71,  70,  82,  97],\n",
       "       [ 53,  90,  76,  87,  68]], dtype=int32)"
      ]
     },
     "execution_count": 15,
     "metadata": {},
     "output_type": "execute_result"
    }
   ],
   "source": [
    "np.random.randint(50,101,size=(50,5))"
   ]
  }
 ],
 "metadata": {
  "kernelspec": {
   "display_name": "python2_4",
   "language": "python",
   "name": "python3"
  },
  "language_info": {
   "codemirror_mode": {
    "name": "ipython",
    "version": 3
   },
   "file_extension": ".py",
   "mimetype": "text/x-python",
   "name": "python",
   "nbconvert_exporter": "python",
   "pygments_lexer": "ipython3",
   "version": "3.11.11"
  }
 },
 "nbformat": 4,
 "nbformat_minor": 5
}
