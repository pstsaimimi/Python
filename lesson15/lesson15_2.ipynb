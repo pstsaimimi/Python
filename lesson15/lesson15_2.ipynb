{
 "cells": [
  {
   "cell_type": "markdown",
   "id": "fdf0c77a",
   "metadata": {},
   "source": [
    "https://www.perplexity.ai/search/27854047-0059-44b3-b1ed-b6dbdddd6505"
   ]
  },
  {
   "cell_type": "markdown",
   "id": "f6e82b46",
   "metadata": {},
   "source": [
    "numpy的索引和切割"
   ]
  },
  {
   "cell_type": "code",
   "execution_count": 2,
   "id": "b8c52b31",
   "metadata": {},
   "outputs": [
    {
     "data": {
      "text/plain": [
       "array([[ 98,  81,  62,  74,  93],\n",
       "       [ 59,  52,  62,  62, 100],\n",
       "       [ 61,  84,  67,  99,  66],\n",
       "       [ 69,  58,  59,  93,  99],\n",
       "       [100,  50,  80,  65,  67]], dtype=int32)"
      ]
     },
     "execution_count": 2,
     "metadata": {},
     "output_type": "execute_result"
    }
   ],
   "source": [
    "import numpy as np\n",
    "scores = np.random.randint(50,101,size=(5,5))\n",
    "scores"
   ]
  },
  {
   "cell_type": "code",
   "execution_count": 4,
   "id": "fb3abe0e",
   "metadata": {},
   "outputs": [
    {
     "data": {
      "text/plain": [
       "array([[ 62,  74,  93],\n",
       "       [ 62,  62, 100],\n",
       "       [ 67,  99,  66]], dtype=int32)"
      ]
     },
     "execution_count": 4,
     "metadata": {},
     "output_type": "execute_result"
    }
   ],
   "source": [
    "scores[:3,2:]"
   ]
  },
  {
   "cell_type": "code",
   "execution_count": 6,
   "id": "676a9981",
   "metadata": {},
   "outputs": [
    {
     "data": {
      "text/plain": [
       "(5,)"
      ]
     },
     "execution_count": 6,
     "metadata": {},
     "output_type": "execute_result"
    }
   ],
   "source": [
    "scores[4].shape"
   ]
  },
  {
   "cell_type": "code",
   "execution_count": 7,
   "id": "8a2d0ed0",
   "metadata": {},
   "outputs": [
    {
     "data": {
      "text/plain": [
       "array([100,  50,  80,  65,  67], dtype=int32)"
      ]
     },
     "execution_count": 7,
     "metadata": {},
     "output_type": "execute_result"
    }
   ],
   "source": [
    "scores[4]"
   ]
  },
  {
   "cell_type": "code",
   "execution_count": 8,
   "id": "1d7520a0",
   "metadata": {},
   "outputs": [
    {
     "data": {
      "text/plain": [
       "array([100,  50,  80,  65,  67], dtype=int32)"
      ]
     },
     "execution_count": 8,
     "metadata": {},
     "output_type": "execute_result"
    }
   ],
   "source": [
    "scores[4,:]"
   ]
  },
  {
   "cell_type": "code",
   "execution_count": 9,
   "id": "08e4825e",
   "metadata": {},
   "outputs": [
    {
     "data": {
      "text/plain": [
       "array([[100,  50,  80,  65,  67]], dtype=int32)"
      ]
     },
     "execution_count": 9,
     "metadata": {},
     "output_type": "execute_result"
    }
   ],
   "source": [
    "scores[4:,:]"
   ]
  },
  {
   "cell_type": "code",
   "execution_count": 10,
   "id": "31dd36cf",
   "metadata": {},
   "outputs": [
    {
     "data": {
      "text/plain": [
       "array([[ 98,  81],\n",
       "       [ 59,  52],\n",
       "       [ 61,  84],\n",
       "       [ 69,  58],\n",
       "       [100,  50]], dtype=int32)"
      ]
     },
     "execution_count": 10,
     "metadata": {},
     "output_type": "execute_result"
    }
   ],
   "source": [
    "scores[:,:2]"
   ]
  },
  {
   "cell_type": "code",
   "execution_count": null,
   "id": "188920e1",
   "metadata": {},
   "outputs": [],
   "source": [
    "### numpy的統計工具"
   ]
  },
  {
   "cell_type": "code",
   "execution_count": 11,
   "id": "1e70336f",
   "metadata": {},
   "outputs": [
    {
     "data": {
      "text/plain": [
       "array([[96, 82, 50, 51, 51],\n",
       "       [73, 73, 63, 62, 92],\n",
       "       [78, 57, 57, 84, 63],\n",
       "       [74, 89, 79, 96, 88],\n",
       "       [85, 90, 60, 70, 79]], dtype=int32)"
      ]
     },
     "execution_count": 11,
     "metadata": {},
     "output_type": "execute_result"
    }
   ],
   "source": [
    "scores = np.random.randint(50,101,size=(5,5))\n",
    "scores\n"
   ]
  },
  {
   "cell_type": "code",
   "execution_count": 12,
   "id": "e936da8f",
   "metadata": {},
   "outputs": [
    {
     "data": {
      "text/plain": [
       "array([330, 333, 360, 434, 375], dtype=int32)"
      ]
     },
     "execution_count": 12,
     "metadata": {},
     "output_type": "execute_result"
    }
   ],
   "source": [
    "scores[:,0]+scores[:,1]+scores[:,2]+scores[:,3]+scores[:,3]"
   ]
  },
  {
   "cell_type": "code",
   "execution_count": null,
   "id": "b5443e26",
   "metadata": {},
   "outputs": [
    {
     "data": {
      "text/plain": [
       "array([330, 363, 339, 426, 384])"
      ]
     },
     "execution_count": 13,
     "metadata": {},
     "output_type": "execute_result"
    }
   ],
   "source": [
    "###加總\n",
    "np.sum(scores,axis=1)"
   ]
  },
  {
   "cell_type": "code",
   "execution_count": 14,
   "id": "a83f8489",
   "metadata": {},
   "outputs": [
    {
     "data": {
      "text/plain": [
       "array([66. , 72.6, 67.8, 85.2, 76.8])"
      ]
     },
     "execution_count": 14,
     "metadata": {},
     "output_type": "execute_result"
    }
   ],
   "source": [
    "###平均\n",
    "np.mean(scores,axis=1)"
   ]
  },
  {
   "cell_type": "code",
   "execution_count": 15,
   "id": "cffb4092",
   "metadata": {},
   "outputs": [
    {
     "data": {
      "text/plain": [
       "array([96, 92, 84, 96, 90], dtype=int32)"
      ]
     },
     "execution_count": 15,
     "metadata": {},
     "output_type": "execute_result"
    }
   ],
   "source": [
    "###最大\n",
    "np.max(scores,axis=1)"
   ]
  },
  {
   "cell_type": "code",
   "execution_count": 16,
   "id": "a7cf2e1b",
   "metadata": {},
   "outputs": [
    {
     "data": {
      "text/plain": [
       "array([50, 62, 57, 74, 60], dtype=int32)"
      ]
     },
     "execution_count": 16,
     "metadata": {},
     "output_type": "execute_result"
    }
   ],
   "source": [
    "###最小\n",
    "np.min(scores,axis=1)"
   ]
  },
  {
   "cell_type": "code",
   "execution_count": 17,
   "id": "415d38cc",
   "metadata": {},
   "outputs": [
    {
     "data": {
      "text/plain": [
       "array([51., 73., 63., 88., 79.])"
      ]
     },
     "execution_count": 17,
     "metadata": {},
     "output_type": "execute_result"
    }
   ],
   "source": [
    "###中間數\n",
    "np.median(scores,axis=1)"
   ]
  },
  {
   "cell_type": "code",
   "execution_count": 18,
   "id": "0520e4ce",
   "metadata": {},
   "outputs": [
    {
     "data": {
      "text/plain": [
       "array([19.29766825, 10.78146558, 11.16064514,  7.78203058, 10.72194012])"
      ]
     },
     "execution_count": 18,
     "metadata": {},
     "output_type": "execute_result"
    }
   ],
   "source": [
    "###標準差\n",
    "np.std(scores,axis=1)"
   ]
  }
 ],
 "metadata": {
  "kernelspec": {
   "display_name": "python2_4",
   "language": "python",
   "name": "python3"
  },
  "language_info": {
   "codemirror_mode": {
    "name": "ipython",
    "version": 3
   },
   "file_extension": ".py",
   "mimetype": "text/x-python",
   "name": "python",
   "nbconvert_exporter": "python",
   "pygments_lexer": "ipython3",
   "version": "3.11.11"
  }
 },
 "nbformat": 4,
 "nbformat_minor": 5
}
