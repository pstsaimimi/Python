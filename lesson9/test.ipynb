{
 "cells": [
  {
   "cell_type": "code",
   "execution_count": 1,
   "id": "75dabb7e",
   "metadata": {},
   "outputs": [
    {
     "name": "stdout",
     "output_type": "stream",
     "text": [
      "輸入錯誤，請輸入1到150之間的數字。\n",
      "隨機輸出的數值是：26\n"
     ]
    }
   ],
   "source": [
    "import random\n",
    "\n",
    "def random_output():\n",
    "    while True:\n",
    "        try:\n",
    "            num = int(input(\"請輸入一個介於1到150之間的整數：\"))\n",
    "            if 1 <= num <= 150:\n",
    "                rand_num = random.randint(1, num)\n",
    "                print(f\"隨機輸出的數值是：{rand_num}\")\n",
    "                break\n",
    "            else:\n",
    "                print(\"輸入錯誤，請輸入1到150之間的數字。\")\n",
    "        except ValueError:\n",
    "            print(\"請輸入有效的整數。\")\n",
    "\n",
    "random_output()"
   ]
  },
  {
   "cell_type": "code",
   "execution_count": 4,
   "id": "ed03bf70",
   "metadata": {},
   "outputs": [
    {
     "name": "stdout",
     "output_type": "stream",
     "text": [
      "第1個亂數輸出是：1\n",
      "第2個亂數輸出是：4\n",
      "第3個亂數輸出是：112\n"
     ]
    }
   ],
   "source": [
    "import random\n",
    "\n",
    "def random_output_three():\n",
    "    nums = []\n",
    "    count = 1\n",
    "    while len(nums) < 3:\n",
    "        try:\n",
    "            num = int(input(f\"請輸入第{count}個介於1到150之間的整數：\"))\n",
    "            if 1 <= num <= 150:\n",
    "                nums.append(num)\n",
    "                count += 1\n",
    "            else:\n",
    "                print(\"輸入錯誤，請輸入1到150之間的數字。\")\n",
    "        except ValueError:\n",
    "            print(\"請輸入有效的整數。\")\n",
    "\n",
    "    # 對每個輸入值產生一個隨機數\n",
    "    rand_nums = [random.randint(1, n) for n in nums]\n",
    "\n",
    "    for i, val in enumerate(rand_nums, start=1):\n",
    "        print(f\"第{i}個亂數輸出是：{val}\")\n",
    "\n",
    "random_output_three()"
   ]
  },
  {
   "cell_type": "code",
   "execution_count": 2,
   "id": "21371e76",
   "metadata": {},
   "outputs": [
    {
     "name": "stdout",
     "output_type": "stream",
     "text": [
      "['馮芳如', '賴心怡', '林世城']\n"
     ]
    }
   ],
   "source": [
    "import random\n",
    "\n",
    "def 選擇姓名(數字1, 數字2, 數字3):\n",
    "    try:\n",
    "        file = open(\"names.txt\", encoding='utf-8')\n",
    "        contents = file.readlines()\n",
    "        file.close()\n",
    "        names = [name.strip() for name in contents]\n",
    "\n",
    "        if not names:\n",
    "            return \"names.txt 檔案是空的。\"\n",
    "\n",
    "        if not all(isinstance(num, int) and 0 <= num < len(names) for num in [數字1, 數字2, 數字3]):\n",
    "            return \"輸入的數字超出有效範圍。\"\n",
    "\n",
    "        選取的姓名 = [names[數字1], names[數字2], names[數字3]]\n",
    "        return 選取的姓名\n",
    "\n",
    "    except FileNotFoundError:\n",
    "        return \"找不到 names.txt 檔案。\"\n",
    "    except Exception as e:\n",
    "        return f\"發生錯誤：{e}\"\n",
    "\n",
    "if __name__ == \"__main__\":\n",
    "    try:\n",
    "        數字1 = int(input(\"請輸入第一個數字：\"))\n",
    "        數字2 = int(input(\"請輸入第二個數字：\"))\n",
    "        數字3 = int(input(\"請輸入第三個數字：\"))\n",
    "\n",
    "        結果 = 選擇姓名(數字1, 數字2, 數字3)\n",
    "        print(結果)\n",
    "\n",
    "    except ValueError:\n",
    "        print(\"輸入的不是有效的整數。\")"
   ]
  },
  {
   "cell_type": "code",
   "execution_count": 3,
   "id": "5c19d571",
   "metadata": {},
   "outputs": [
    {
     "name": "stdout",
     "output_type": "stream",
     "text": [
      "['林希啟', '邱亭君', '林佳慧']\n"
     ]
    }
   ],
   "source": [
    "import random\n",
    "\n",
    "def 選擇姓名(數字1, 數字2, 數字3):\n",
    "    try:\n",
    "        file = open(\"names.txt\", encoding='utf-8')\n",
    "        contents = file.readlines()\n",
    "        file.close()\n",
    "        names = [name.strip() for name in contents]\n",
    "\n",
    "        if not names:\n",
    "            return \"names.txt 檔案是空的。\"\n",
    "\n",
    "        if not all(isinstance(num, int) and 0 <= num < len(names) for num in [數字1, 數字2, 數字3]):\n",
    "            return \"輸入的數字超出有效範圍。\"\n",
    "\n",
    "        選取的姓名 = [names[數字1], names[數字2], names[數字3]]\n",
    "        return 選取的姓名\n",
    "\n",
    "    except FileNotFoundError:\n",
    "        return \"找不到 names.txt 檔案。\"\n",
    "    except Exception as e:\n",
    "        return f\"發生錯誤：{e}\"\n",
    "\n",
    "if __name__ == \"__main__\":\n",
    "    try:\n",
    "        數字1 = int(input(\"請輸入第一個數字：\"))\n",
    "        數字2 = int(input(\"請輸入第二個數字：\"))\n",
    "        數字3 = int(input(\"請輸入第三個數字：\"))\n",
    "\n",
    "        結果 = 選擇姓名(數字1, 數字2, 數字3)\n",
    "        if isinstance(結果, list):\n",
    "            print(結果)\n",
    "        else:\n",
    "            print([結果])\n",
    "\n",
    "    except ValueError:\n",
    "        print(\"輸入的不是有效的整數。\")\n"
   ]
  },
  {
   "cell_type": "code",
   "execution_count": 4,
   "id": "e6c8d863",
   "metadata": {},
   "outputs": [
    {
     "name": "stdout",
     "output_type": "stream",
     "text": [
      "['林珈發', '溫重意', '簡美君', '翁鈺婷', '葉祖雄']\n"
     ]
    }
   ],
   "source": [
    "import random\n",
    "\n",
    "def 產生排序姓名列表(使用者輸入數量):\n",
    "    try:\n",
    "        file = open(\"names.txt\", encoding='utf-8')\n",
    "        contents = file.readlines()\n",
    "        file.close()\n",
    "        names = [name.strip() for name in contents]\n",
    "\n",
    "        if not names:\n",
    "            return \"names.txt 檔案是空的。\"\n",
    "\n",
    "        if not isinstance(使用者輸入數量, int) or 使用者輸入數量 <= 0:\n",
    "            return \"輸入的數量必須是正整數。\"\n",
    "\n",
    "        if 使用者輸入數量 > len(names):\n",
    "            return \"輸入的數量大於 names.txt 檔案中的姓名數量。\"\n",
    "\n",
    "        隨機選取的姓名 = random.sample(names, 使用者輸入數量)\n",
    "        隨機選取的姓名.sort()\n",
    "        return 隨機選取的姓名\n",
    "\n",
    "    except FileNotFoundError:\n",
    "        return \"找不到 names.txt 檔案。\"\n",
    "    except Exception as e:\n",
    "        return f\"發生錯誤：{e}\"\n",
    "\n",
    "if __name__ == \"__main__\":\n",
    "    try:\n",
    "        使用者輸入數量 = int(input(\"請輸入要產生的姓名數量：\"))\n",
    "\n",
    "        結果 = 產生排序姓名列表(使用者輸入數量)\n",
    "        if isinstance(結果, list):\n",
    "            print(結果)\n",
    "        else:\n",
    "            print([結果])\n",
    "\n",
    "    except ValueError:\n",
    "        print(\"輸入的不是有效的整數。\")\n"
   ]
  },
  {
   "cell_type": "code",
   "execution_count": null,
   "id": "a3eac089",
   "metadata": {},
   "outputs": [
    {
     "name": "stdout",
     "output_type": "stream",
     "text": [
      "隨機選取的姓名列表：\n",
      "張雅芬\n",
      "王惠皓\n",
      "王士銘\n"
     ]
    }
   ],
   "source": [
    "import random\n",
    "\n",
    "def 亂數取姓名(取出數量):\n",
    "    try:\n",
    "        with open(\"names.txt\", encoding='utf-8') as file:\n",
    "            contents = file.readlines()\n",
    "        names = [name.strip() for name in contents]\n",
    "\n",
    "        if not names:\n",
    "            return \"names.txt 檔案是空的。\"\n",
    "\n",
    "        if not isinstance(取出數量, int) or 取出數量 <= 0:\n",
    "            return \"輸入的數量必須是正整數。\"\n",
    "\n",
    "        if 取出數量 > len(names):\n",
    "            return \"輸入的數量大於姓名總數。\"\n",
    "\n",
    "        選取姓名 = random.sample(names, 取出數量)\n",
    "        return 選取姓名\n",
    "\n",
    "    except FileNotFoundError:\n",
    "        return \"找不到 names.txt 檔案。\"\n",
    "    except Exception as e:\n",
    "        return f\"發生錯誤：{e}\"\n",
    "\n",
    "if __name__ == \"__main__\":\n",
    "    try:\n",
    "        數量 = int(input(\"請輸入要隨機取出的姓名數量：\"))\n",
    "        結果 = 亂數取姓名(數量)\n",
    "        if isinstance(結果, list):\n",
    "            print(\"隨機選取的姓名列表：\")\n",
    "            for name in 結果:\n",
    "                print(name)\n",
    "        else:\n",
    "            print(結果)\n",
    "    except ValueError:\n",
    "        print(\"請輸入有效的整數。\")\n"
   ]
  },
  {
   "cell_type": "code",
   "execution_count": 9,
   "id": "9ca7114a",
   "metadata": {},
   "outputs": [
    {
     "name": "stdout",
     "output_type": "stream",
     "text": [
      "  1.詹忠光\n",
      "  2.唐翊修\n",
      "  3.游詩亞\n"
     ]
    }
   ],
   "source": [
    "import random\n",
    "\n",
    "file = open(\"names.txt\",encoding='utf-8')\n",
    "contents:list[str] = file.readlines()\n",
    "file.close()\n",
    "names:list[str] = [name.strip() for name in contents]\n",
    "n:int = int(input('請輸入所需要的姓名數量:'))\n",
    "for i in range(0,n):\n",
    "    x= random.randint(0, len(names));\n",
    "    print(f\"{i+1:3d}.{names[x]}\");\n"
   ]
  },
  {
   "cell_type": "code",
   "execution_count": 5,
   "id": "f25dc359",
   "metadata": {},
   "outputs": [
    {
     "name": "stdout",
     "output_type": "stream",
     "text": [
      "隨機選取的姓名列表（帶序號）：\n",
      "1. 林清英\n",
      "2. 梁柏宇\n",
      "3. 臧怡君\n",
      "4. 胡姿婷\n",
      "5. 謝水儒\n"
     ]
    }
   ],
   "source": [
    "import random\n",
    "\n",
    "def 亂數取姓名且有序號(取出數量):\n",
    "    try:\n",
    "        with open(\"names.txt\", encoding='utf-8') as file:\n",
    "            contents = file.readlines()\n",
    "        names = [name.strip() for name in contents]\n",
    "\n",
    "        if not names:\n",
    "            return \"names.txt 檔案是空的。\"\n",
    "\n",
    "        if not isinstance(取出數量, int) or 取出數量 <= 0:\n",
    "            return \"輸入的數量必須是正整數。\"\n",
    "\n",
    "        if 取出數量 > len(names):\n",
    "            return \"輸入的數量大於姓名總數。\"\n",
    "\n",
    "        選取姓名 = random.sample(names, 取出數量)\n",
    "        結果列表 = [(i + 1, name) for i, name in enumerate(選取姓名)]\n",
    "        return 結果列表\n",
    "\n",
    "    except FileNotFoundError:\n",
    "        return \"找不到 names.txt 檔案。\"\n",
    "    except Exception as e:\n",
    "        return f\"發生錯誤：{e}\"\n",
    "\n",
    "if __name__ == \"__main__\":\n",
    "    try:\n",
    "        數量 = int(input(\"請輸入要隨機取出的姓名數量：\"))\n",
    "        結果 = 亂數取姓名且有序號(數量)\n",
    "        if isinstance(結果, list):\n",
    "            print(\"隨機選取的姓名列表（帶序號）：\")\n",
    "            for 序號, name in 結果:\n",
    "                print(f\"{序號}. {name}\")\n",
    "        else:\n",
    "            print(結果)\n",
    "    except ValueError:\n",
    "        print(\"請輸入有效的整數。\")\n"
   ]
  }
 ],
 "metadata": {
  "kernelspec": {
   "display_name": "base",
   "language": "python",
   "name": "python3"
  },
  "language_info": {
   "codemirror_mode": {
    "name": "ipython",
    "version": 3
   },
   "file_extension": ".py",
   "mimetype": "text/x-python",
   "name": "python",
   "nbconvert_exporter": "python",
   "pygments_lexer": "ipython3",
   "version": "3.12.9"
  }
 },
 "nbformat": 4,
 "nbformat_minor": 5
}
