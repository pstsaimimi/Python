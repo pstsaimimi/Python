{
 "cells": [
  {
   "cell_type": "code",
   "execution_count": 2,
   "id": "2752a6ea",
   "metadata": {},
   "outputs": [
    {
     "data": {
      "text/plain": [
       "[{'姓名': '崔孝憲', '國文': 100, '英文': 50, '數學': 59},\n",
       " {'姓名': '蕭怡伶', '國文': 67, '英文': 84, '數學': 85}]"
      ]
     },
     "execution_count": 2,
     "metadata": {},
     "output_type": "execute_result"
    }
   ],
   "source": [
    "import random\n",
    "\n",
    "with open(\"names.txt\",encoding='utf-8') as file:\n",
    "    a:list[str] = file.readlines()\n",
    "\n",
    "names:list[str] = [name.strip() for name in a]\n",
    "pick = int(input(\"請輸入所需要的姓名數量:\"));\n",
    "\n",
    "selected_names = random.sample(names, pick)\n",
    "students_data:list[dict] = [\n",
    "    {\n",
    "        '姓名':name,\n",
    "        '國文':random.randint(50,100),\n",
    "        '英文':random.randint(50,100),\n",
    "        '數學':random.randint(50, 100) \n",
    "    }\n",
    "    for name in selected_names]\n",
    "students_data"
   ]
  }
 ],
 "metadata": {
  "kernelspec": {
   "display_name": "base",
   "language": "python",
   "name": "python3"
  },
  "language_info": {
   "codemirror_mode": {
    "name": "ipython",
    "version": 3
   },
   "file_extension": ".py",
   "mimetype": "text/x-python",
   "name": "python",
   "nbconvert_exporter": "python",
   "pygments_lexer": "ipython3",
   "version": "3.12.9"
  }
 },
 "nbformat": 4,
 "nbformat_minor": 5
}
