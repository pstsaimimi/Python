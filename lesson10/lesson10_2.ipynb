{
 "cells": [
  {
   "cell_type": "markdown",
   "id": "1fdad852",
   "metadata": {},
   "source": [
    "讀取csv檔"
   ]
  },
  {
   "cell_type": "markdown",
   "id": "8e473769",
   "metadata": {},
   "source": [
    "https://www.perplexity.ai/search/8a22aac5-dc37-4bbb-bb81-9edfdd6f0e53"
   ]
  },
  {
   "cell_type": "code",
   "execution_count": null,
   "id": "59ddd3a0",
   "metadata": {},
   "outputs": [
    {
     "data": {
      "text/plain": [
       "[{'姓名': '戴萱能', '國文': '50', '英文': '57', '數學': '55'},\n",
       " {'姓名': '吳昕婷', '國文': '92', '英文': '74', '數學': '62'},\n",
       " {'姓名': '孫火清', '國文': '99', '英文': '69', '數學': '53'}]"
      ]
     },
     "execution_count": 4,
     "metadata": {},
     "output_type": "execute_result"
    }
   ],
   "source": [
    "import csv\n",
    "\n",
    "with open('students.csv',encoding='utf-8',newline='') as csvfile:\n",
    "    reader = csv.DictReader(csvfile)\n",
    "    content:list[dict] = [row for row in reader]\n",
    "\n",
    "content"
   ]
  },
  {
   "cell_type": "code",
   "execution_count": 8,
   "id": "985fb9f6",
   "metadata": {},
   "outputs": [
    {
     "data": {
      "text/plain": [
       "[{'姓名': '戴萱能', '國文': '50', '英文': '57', '數學': '55'},\n",
       " {'姓名': '孫火清', '國文': '99', '英文': '69', '數學': '53'}]"
      ]
     },
     "execution_count": 8,
     "metadata": {},
     "output_type": "execute_result"
    }
   ],
   "source": [
    "fail_chinese = [item for item in content if int(item['國文']) < 60 or int(item['英文']) < 60 or int(item['數學']) < 60]\n",
    "fail_chinese\n"
   ]
  }
 ],
 "metadata": {
  "kernelspec": {
   "display_name": "base",
   "language": "python",
   "name": "python3"
  },
  "language_info": {
   "codemirror_mode": {
    "name": "ipython",
    "version": 3
   },
   "file_extension": ".py",
   "mimetype": "text/x-python",
   "name": "python",
   "nbconvert_exporter": "python",
   "pygments_lexer": "ipython3",
   "version": "3.12.9"
  }
 },
 "nbformat": 4,
 "nbformat_minor": 5
}
