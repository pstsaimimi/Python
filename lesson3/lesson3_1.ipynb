{
 "cells": [
  {
   "cell_type": "markdown",
   "id": "90f4f9be",
   "metadata": {},
   "source": [
    "###數值運算值(int,float)\n",
    "### 數值運算子\n",
    "### 數值子運算順序"
   ]
  },
  {
   "cell_type": "code",
   "execution_count": 1,
   "id": "e9a26d9f",
   "metadata": {},
   "outputs": [
    {
     "data": {
      "text/plain": [
       "10"
      ]
     },
     "execution_count": 1,
     "metadata": {},
     "output_type": "execute_result"
    }
   ],
   "source": [
    "2*(1+2)**2-2**2*2"
   ]
  },
  {
   "cell_type": "code",
   "execution_count": 2,
   "id": "a482d210",
   "metadata": {},
   "outputs": [
    {
     "data": {
      "text/plain": [
       "25"
      ]
     },
     "execution_count": 2,
     "metadata": {},
     "output_type": "execute_result"
    }
   ],
   "source": [
    "5 + 10 #運算式\n",
    "20 + 5 #運算式"
   ]
  },
  {
   "cell_type": "code",
   "execution_count": 3,
   "id": "df396d86",
   "metadata": {},
   "outputs": [
    {
     "name": "stdout",
     "output_type": "stream",
     "text": [
      "total= 40\n"
     ]
    }
   ],
   "source": [
    "n = 15 #敘述式\n",
    "m = 25 #敘述式\n",
    "total = n + m #敘述式\n",
    "print(\"total=\", total) # 敘述式"
   ]
  },
  {
   "cell_type": "code",
   "execution_count": 4,
   "id": "9f480477",
   "metadata": {},
   "outputs": [
    {
     "name": "stdout",
     "output_type": "stream",
     "text": [
      "15 25\n"
     ]
    }
   ],
   "source": [
    "x = 5 + 10\n",
    "y = 20 + 5\n",
    "print(x, y)"
   ]
  },
  {
   "cell_type": "markdown",
   "id": "5c65156f",
   "metadata": {},
   "source": [
    "### 輸入\n",
    "-input()\n",
    "### 輸出\n",
    "-print()"
   ]
  },
  {
   "cell_type": "code",
   "execution_count": 8,
   "id": "20e2361c",
   "metadata": {},
   "outputs": [
    {
     "name": "stdout",
     "output_type": "stream",
     "text": [
      "您輸入的是整數: 36\n"
     ]
    }
   ],
   "source": [
    "value_str = input(\"請輸入數值\")\n",
    "value = int(value_str)\n",
    "print(\"您輸入的是整數:\", value)"
   ]
  },
  {
   "cell_type": "code",
   "execution_count": 9,
   "id": "2a2a114a",
   "metadata": {},
   "outputs": [
    {
     "name": "stdout",
     "output_type": "stream",
     "text": [
      "2數相加的合是: 35\n"
     ]
    }
   ],
   "source": [
    "value1 = int(input(\"請輸入第1個整數\"))\n",
    "value2 = int(input(\"請輸入第2個整數\"))\n",
    "total = value1 + value2\n",
    "print(\"2數相加的合是:\", total)"
   ]
  },
  {
   "cell_type": "code",
   "execution_count": 10,
   "id": "21c71434",
   "metadata": {},
   "outputs": [
    {
     "name": "stdout",
     "output_type": "stream",
     "text": [
      "矩形寬是: 21.1\n",
      "矩形高是: 20\n",
      "矩形面積是: 422.0\n"
     ]
    }
   ],
   "source": [
    "width = eval(input(\"請輸入矩形寬:\"))\n",
    "height = eval(input(\"請輸入矩形高:\"))\n",
    "area = width * height\n",
    "print(\"矩形寬是:\",width)\n",
    "print(\"矩形高是:\",height)\n",
    "print(\"矩形面積是:\",area)"
   ]
  },
  {
   "cell_type": "code",
   "execution_count": 25,
   "id": "e1c11940",
   "metadata": {},
   "outputs": [
    {
     "name": "stdout",
     "output_type": "stream",
     "text": [
      "身高是: 1.79 公尺\n",
      "體重是: 85 公斤\n",
      "BMI為: 26.528510346119035\n"
     ]
    }
   ],
   "source": [
    "h = eval(input(\"請輸入身高(cm):\"))/100\n",
    "w = eval(input(\"請輸入體重(公斤):\"))\n",
    "bmi= w/h**2\n",
    "print(\"身高是:\",h,\"公尺\")\n",
    "print(\"體重是:\",w, \"公斤\")\n",
    "print(\"BMI為:\",bmi)"
   ]
  }
 ],
 "metadata": {
  "kernelspec": {
   "display_name": "base",
   "language": "python",
   "name": "python3"
  },
  "language_info": {
   "codemirror_mode": {
    "name": "ipython",
    "version": 3
   },
   "file_extension": ".py",
   "mimetype": "text/x-python",
   "name": "python",
   "nbconvert_exporter": "python",
   "pygments_lexer": "ipython3",
   "version": "3.12.9"
  }
 },
 "nbformat": 4,
 "nbformat_minor": 5
}
