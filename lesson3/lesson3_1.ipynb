{
 "cells": [
  {
   "cell_type": "markdown",
   "id": "90f4f9be",
   "metadata": {},
   "source": [
    "###數值運算值(int,float)\n",
    "### 數值運算子\n",
    "### 數值子運算順序"
   ]
  },
  {
   "cell_type": "code",
   "execution_count": null,
   "id": "e9a26d9f",
   "metadata": {},
   "outputs": [],
   "source": []
  }
 ],
 "metadata": {
  "kernelspec": {
   "display_name": "base",
   "language": "python",
   "name": "python3"
  },
  "language_info": {
   "name": "python",
   "version": "3.12.9"
  }
 },
 "nbformat": 4,
 "nbformat_minor": 5
}
